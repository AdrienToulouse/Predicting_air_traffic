{
 "cells": [
  {
   "cell_type": "markdown",
   "metadata": {},
   "source": [
    "# <a href=\"http://www.datascience-paris-saclay.fr\">Paris Saclay Center for Data Science</a>\n",
    "# <a href=https://ramp.r0h.eu/problems/air_passengers>RAMP</a> on predicting the number of air passengers\n",
    "\n",
    "<i> Balázs Kégl (LAL/CNRS), Alex Gramfort (LTCI/Telecom ParisTech), Djalel Benbouzid (UPMC), Mehdi Cherti (LAL/CNRS) </i>"
   ]
  },
  {
   "cell_type": "markdown",
   "metadata": {},
   "source": [
    "## Introduction\n",
    "The data set was donated to us by an unnamed company handling flight ticket reservations. The data is thin, it contains\n",
    "<ul>\n",
    "<li> the date of departure\n",
    "<li> the departure airport\n",
    "<li> the arrival airport\n",
    "<li> the mean and standard deviation of the number of weeks of the reservations made before the departure date\n",
    "<li> a field called <code>log_PAX</code> which is related to the number of passengers (the actual number were changed for privacy reasons)\n",
    "</ul>\n",
    "\n",
    "The goal is to predict the <code>log_PAX</code> column. The prediction quality is measured by RMSE. \n",
    "\n",
    "The data is obviously limited, but since data and location informations are available, it can be joined to external data sets. <b>The challenge in this RAMP is to find good data that can be correlated to flight traffic</b>."
   ]
  },
  {
   "cell_type": "markdown",
   "metadata": {},
   "source": [
    "To do :\n",
    "- mean encoding \n",
    "- regrouper variables catégoriques\n",
    "- ajouter nouvelles données : distance aéroports (trouver fichier avec données)\n",
    "- faire analyses descriptives"
   ]
  },
  {
   "cell_type": "code",
   "execution_count": 53,
   "metadata": {},
   "outputs": [],
   "source": [
    "%matplotlib inline\n",
    "import imp\n",
    "import numpy as np\n",
    "import pandas as pd\n",
    "import matplotlib.pyplot as plt\n",
    "pd.set_option('display.max_columns', None)"
   ]
  },
  {
   "cell_type": "markdown",
   "metadata": {},
   "source": [
    "## Fetch the data and load it in pandas\n",
    "\n",
    "First we load `problem.py` that parameterizes the challenge. It contains some objects taken off the shelf from `ramp-workflow` (e.g., `Predictions` type, scores, and data reader). "
   ]
  },
  {
   "cell_type": "code",
   "execution_count": 54,
   "metadata": {},
   "outputs": [],
   "source": [
    "problem = imp.load_source('', 'problem.py')"
   ]
  },
  {
   "cell_type": "markdown",
   "metadata": {},
   "source": [
    "`get_train_data` loads the training data and returns an `pandas` object (input) and a `np.array` object (output)."
   ]
  },
  {
   "cell_type": "code",
   "execution_count": 55,
   "metadata": {},
   "outputs": [],
   "source": [
    "X_df, y_array = problem.get_train_data()\n",
    "# the y array contains the log-like number of passengers on each flight "
   ]
  },
  {
   "cell_type": "code",
   "execution_count": 56,
   "metadata": {},
   "outputs": [
    {
     "name": "stdout",
     "output_type": "stream",
     "text": [
      "2011-09-01\n",
      "2013-03-05\n"
     ]
    }
   ],
   "source": [
    "print(min(X_df['DateOfDeparture']))\n",
    "print(max(X_df['DateOfDeparture']))"
   ]
  },
  {
   "cell_type": "code",
   "execution_count": 57,
   "metadata": {},
   "outputs": [
    {
     "data": {
      "text/html": [
       "<div>\n",
       "<style scoped>\n",
       "    .dataframe tbody tr th:only-of-type {\n",
       "        vertical-align: middle;\n",
       "    }\n",
       "\n",
       "    .dataframe tbody tr th {\n",
       "        vertical-align: top;\n",
       "    }\n",
       "\n",
       "    .dataframe thead th {\n",
       "        text-align: right;\n",
       "    }\n",
       "</style>\n",
       "<table border=\"1\" class=\"dataframe\">\n",
       "  <thead>\n",
       "    <tr style=\"text-align: right;\">\n",
       "      <th></th>\n",
       "      <th>log_PAX</th>\n",
       "      <th>DateOfDeparture</th>\n",
       "      <th>Departure</th>\n",
       "      <th>Arrival</th>\n",
       "      <th>WeeksToDeparture</th>\n",
       "      <th>std_wtd</th>\n",
       "    </tr>\n",
       "  </thead>\n",
       "  <tbody>\n",
       "    <tr>\n",
       "      <th>0</th>\n",
       "      <td>12.331296</td>\n",
       "      <td>2012-06-19</td>\n",
       "      <td>ORD</td>\n",
       "      <td>DFW</td>\n",
       "      <td>12.875000</td>\n",
       "      <td>9.812647</td>\n",
       "    </tr>\n",
       "    <tr>\n",
       "      <th>1</th>\n",
       "      <td>10.775182</td>\n",
       "      <td>2012-09-10</td>\n",
       "      <td>LAS</td>\n",
       "      <td>DEN</td>\n",
       "      <td>14.285714</td>\n",
       "      <td>9.466734</td>\n",
       "    </tr>\n",
       "    <tr>\n",
       "      <th>2</th>\n",
       "      <td>11.083177</td>\n",
       "      <td>2012-10-05</td>\n",
       "      <td>DEN</td>\n",
       "      <td>LAX</td>\n",
       "      <td>10.863636</td>\n",
       "      <td>9.035883</td>\n",
       "    </tr>\n",
       "    <tr>\n",
       "      <th>3</th>\n",
       "      <td>11.169268</td>\n",
       "      <td>2011-10-09</td>\n",
       "      <td>ATL</td>\n",
       "      <td>ORD</td>\n",
       "      <td>11.480000</td>\n",
       "      <td>7.990202</td>\n",
       "    </tr>\n",
       "    <tr>\n",
       "      <th>4</th>\n",
       "      <td>11.269364</td>\n",
       "      <td>2012-02-21</td>\n",
       "      <td>DEN</td>\n",
       "      <td>SFO</td>\n",
       "      <td>11.450000</td>\n",
       "      <td>9.517159</td>\n",
       "    </tr>\n",
       "  </tbody>\n",
       "</table>\n",
       "</div>"
      ],
      "text/plain": [
       "     log_PAX DateOfDeparture Departure Arrival  WeeksToDeparture   std_wtd\n",
       "0  12.331296      2012-06-19       ORD     DFW         12.875000  9.812647\n",
       "1  10.775182      2012-09-10       LAS     DEN         14.285714  9.466734\n",
       "2  11.083177      2012-10-05       DEN     LAX         10.863636  9.035883\n",
       "3  11.169268      2011-10-09       ATL     ORD         11.480000  7.990202\n",
       "4  11.269364      2012-02-21       DEN     SFO         11.450000  9.517159"
      ]
     },
     "execution_count": 57,
     "metadata": {},
     "output_type": "execute_result"
    }
   ],
   "source": [
    "X_df['log_PAX'] = y_array\n",
    "cols = X_df.columns.tolist()\n",
    "cols = cols[-1:] + cols[:-1]\n",
    "X_df = X_df[cols]\n",
    "X_encoded = X_df\n",
    "X_encoded.head()"
   ]
  },
  {
   "cell_type": "code",
   "execution_count": 58,
   "metadata": {
    "scrolled": true
   },
   "outputs": [
    {
     "data": {
      "text/html": [
       "<div>\n",
       "<style scoped>\n",
       "    .dataframe tbody tr th:only-of-type {\n",
       "        vertical-align: middle;\n",
       "    }\n",
       "\n",
       "    .dataframe tbody tr th {\n",
       "        vertical-align: top;\n",
       "    }\n",
       "\n",
       "    .dataframe thead th {\n",
       "        text-align: right;\n",
       "    }\n",
       "</style>\n",
       "<table border=\"1\" class=\"dataframe\">\n",
       "  <thead>\n",
       "    <tr style=\"text-align: right;\">\n",
       "      <th></th>\n",
       "      <th>Departure</th>\n",
       "      <th>Arrival</th>\n",
       "      <th>Distance</th>\n",
       "      <th>DateOfDeparture</th>\n",
       "      <th>Max TemperatureC</th>\n",
       "      <th>Mean TemperatureC</th>\n",
       "      <th>Min TemperatureC</th>\n",
       "      <th>Dew PointC</th>\n",
       "      <th>MeanDew PointC</th>\n",
       "      <th>Min DewpointC</th>\n",
       "      <th>Max Humidity</th>\n",
       "      <th>Mean Humidity</th>\n",
       "      <th>Min Humidity</th>\n",
       "      <th>Max Sea Level PressurehPa</th>\n",
       "      <th>Mean Sea Level PressurehPa</th>\n",
       "      <th>Min Sea Level PressurehPa</th>\n",
       "      <th>Max VisibilityKm</th>\n",
       "      <th>Mean VisibilityKm</th>\n",
       "      <th>Min VisibilitykM</th>\n",
       "      <th>Max Wind SpeedKm/h</th>\n",
       "      <th>Mean Wind SpeedKm/h</th>\n",
       "      <th>Max Gust SpeedKm/h</th>\n",
       "      <th>Precipitationmm</th>\n",
       "      <th>CloudCover</th>\n",
       "      <th>Events</th>\n",
       "      <th>WindDirDegrees</th>\n",
       "      <th>Number_hab</th>\n",
       "      <th>Revenue</th>\n",
       "      <th>Oil_price</th>\n",
       "      <th>dep_encod</th>\n",
       "      <th>ar_encod</th>\n",
       "    </tr>\n",
       "  </thead>\n",
       "  <tbody>\n",
       "    <tr>\n",
       "      <th>0</th>\n",
       "      <td>LAS</td>\n",
       "      <td>ORD</td>\n",
       "      <td>2434</td>\n",
       "      <td>2011-09-01</td>\n",
       "      <td>34</td>\n",
       "      <td>28</td>\n",
       "      <td>22</td>\n",
       "      <td>23</td>\n",
       "      <td>22</td>\n",
       "      <td>19</td>\n",
       "      <td>84</td>\n",
       "      <td>70</td>\n",
       "      <td>56</td>\n",
       "      <td>1015</td>\n",
       "      <td>1013</td>\n",
       "      <td>1011</td>\n",
       "      <td>16</td>\n",
       "      <td>15</td>\n",
       "      <td>11</td>\n",
       "      <td>26</td>\n",
       "      <td>9</td>\n",
       "      <td>37.0</td>\n",
       "      <td>0</td>\n",
       "      <td>1</td>\n",
       "      <td>NaN</td>\n",
       "      <td>197</td>\n",
       "      <td>2712920</td>\n",
       "      <td>52273</td>\n",
       "      <td>88.93</td>\n",
       "      <td>10.79</td>\n",
       "      <td>11.26</td>\n",
       "    </tr>\n",
       "    <tr>\n",
       "      <th>1</th>\n",
       "      <td>LAS</td>\n",
       "      <td>ORD</td>\n",
       "      <td>2434</td>\n",
       "      <td>2011-09-02</td>\n",
       "      <td>33</td>\n",
       "      <td>29</td>\n",
       "      <td>24</td>\n",
       "      <td>22</td>\n",
       "      <td>21</td>\n",
       "      <td>19</td>\n",
       "      <td>79</td>\n",
       "      <td>64</td>\n",
       "      <td>49</td>\n",
       "      <td>1013</td>\n",
       "      <td>1012</td>\n",
       "      <td>1011</td>\n",
       "      <td>16</td>\n",
       "      <td>15</td>\n",
       "      <td>11</td>\n",
       "      <td>27</td>\n",
       "      <td>12</td>\n",
       "      <td>37.0</td>\n",
       "      <td>0</td>\n",
       "      <td>4</td>\n",
       "      <td>NaN</td>\n",
       "      <td>215</td>\n",
       "      <td>2712920</td>\n",
       "      <td>52273</td>\n",
       "      <td>86.57</td>\n",
       "      <td>10.79</td>\n",
       "      <td>11.26</td>\n",
       "    </tr>\n",
       "    <tr>\n",
       "      <th>2</th>\n",
       "      <td>LAS</td>\n",
       "      <td>ORD</td>\n",
       "      <td>2434</td>\n",
       "      <td>2011-09-03</td>\n",
       "      <td>32</td>\n",
       "      <td>26</td>\n",
       "      <td>21</td>\n",
       "      <td>22</td>\n",
       "      <td>20</td>\n",
       "      <td>18</td>\n",
       "      <td>93</td>\n",
       "      <td>70</td>\n",
       "      <td>46</td>\n",
       "      <td>1013</td>\n",
       "      <td>1012</td>\n",
       "      <td>1011</td>\n",
       "      <td>16</td>\n",
       "      <td>15</td>\n",
       "      <td>8</td>\n",
       "      <td>32</td>\n",
       "      <td>10</td>\n",
       "      <td>39.0</td>\n",
       "      <td>0.51</td>\n",
       "      <td>6</td>\n",
       "      <td>Rain-Thunderstorm</td>\n",
       "      <td>270</td>\n",
       "      <td>2712920</td>\n",
       "      <td>52273</td>\n",
       "      <td>93.79</td>\n",
       "      <td>10.79</td>\n",
       "      <td>11.26</td>\n",
       "    </tr>\n",
       "    <tr>\n",
       "      <th>3</th>\n",
       "      <td>LAS</td>\n",
       "      <td>ORD</td>\n",
       "      <td>2434</td>\n",
       "      <td>2011-09-04</td>\n",
       "      <td>23</td>\n",
       "      <td>19</td>\n",
       "      <td>14</td>\n",
       "      <td>19</td>\n",
       "      <td>13</td>\n",
       "      <td>9</td>\n",
       "      <td>93</td>\n",
       "      <td>70</td>\n",
       "      <td>47</td>\n",
       "      <td>1017</td>\n",
       "      <td>1013</td>\n",
       "      <td>1010</td>\n",
       "      <td>16</td>\n",
       "      <td>16</td>\n",
       "      <td>16</td>\n",
       "      <td>35</td>\n",
       "      <td>19</td>\n",
       "      <td>45.0</td>\n",
       "      <td>0</td>\n",
       "      <td>5</td>\n",
       "      <td>NaN</td>\n",
       "      <td>312</td>\n",
       "      <td>2712920</td>\n",
       "      <td>52273</td>\n",
       "      <td>93.79</td>\n",
       "      <td>10.79</td>\n",
       "      <td>11.26</td>\n",
       "    </tr>\n",
       "    <tr>\n",
       "      <th>4</th>\n",
       "      <td>LAS</td>\n",
       "      <td>ORD</td>\n",
       "      <td>2434</td>\n",
       "      <td>2011-09-05</td>\n",
       "      <td>18</td>\n",
       "      <td>15</td>\n",
       "      <td>11</td>\n",
       "      <td>10</td>\n",
       "      <td>7</td>\n",
       "      <td>6</td>\n",
       "      <td>77</td>\n",
       "      <td>64</td>\n",
       "      <td>51</td>\n",
       "      <td>1021</td>\n",
       "      <td>1020</td>\n",
       "      <td>1017</td>\n",
       "      <td>16</td>\n",
       "      <td>16</td>\n",
       "      <td>16</td>\n",
       "      <td>42</td>\n",
       "      <td>24</td>\n",
       "      <td>56.0</td>\n",
       "      <td>0</td>\n",
       "      <td>3</td>\n",
       "      <td>NaN</td>\n",
       "      <td>5</td>\n",
       "      <td>2712920</td>\n",
       "      <td>52273</td>\n",
       "      <td>83.52</td>\n",
       "      <td>10.79</td>\n",
       "      <td>11.26</td>\n",
       "    </tr>\n",
       "  </tbody>\n",
       "</table>\n",
       "</div>"
      ],
      "text/plain": [
       "  Departure Arrival  Distance DateOfDeparture  Max TemperatureC  \\\n",
       "0       LAS     ORD      2434      2011-09-01                34   \n",
       "1       LAS     ORD      2434      2011-09-02                33   \n",
       "2       LAS     ORD      2434      2011-09-03                32   \n",
       "3       LAS     ORD      2434      2011-09-04                23   \n",
       "4       LAS     ORD      2434      2011-09-05                18   \n",
       "\n",
       "   Mean TemperatureC  Min TemperatureC  Dew PointC  MeanDew PointC  \\\n",
       "0                 28                22          23              22   \n",
       "1                 29                24          22              21   \n",
       "2                 26                21          22              20   \n",
       "3                 19                14          19              13   \n",
       "4                 15                11          10               7   \n",
       "\n",
       "   Min DewpointC  Max Humidity  Mean Humidity  Min Humidity  \\\n",
       "0             19            84             70            56   \n",
       "1             19            79             64            49   \n",
       "2             18            93             70            46   \n",
       "3              9            93             70            47   \n",
       "4              6            77             64            51   \n",
       "\n",
       "   Max Sea Level PressurehPa  Mean Sea Level PressurehPa  \\\n",
       "0                       1015                        1013   \n",
       "1                       1013                        1012   \n",
       "2                       1013                        1012   \n",
       "3                       1017                        1013   \n",
       "4                       1021                        1020   \n",
       "\n",
       "   Min Sea Level PressurehPa  Max VisibilityKm  Mean VisibilityKm  \\\n",
       "0                       1011                16                 15   \n",
       "1                       1011                16                 15   \n",
       "2                       1011                16                 15   \n",
       "3                       1010                16                 16   \n",
       "4                       1017                16                 16   \n",
       "\n",
       "   Min VisibilitykM  Max Wind SpeedKm/h  Mean Wind SpeedKm/h  \\\n",
       "0                11                  26                    9   \n",
       "1                11                  27                   12   \n",
       "2                 8                  32                   10   \n",
       "3                16                  35                   19   \n",
       "4                16                  42                   24   \n",
       "\n",
       "   Max Gust SpeedKm/h Precipitationmm  CloudCover             Events  \\\n",
       "0                37.0               0           1                NaN   \n",
       "1                37.0               0           4                NaN   \n",
       "2                39.0            0.51           6  Rain-Thunderstorm   \n",
       "3                45.0               0           5                NaN   \n",
       "4                56.0               0           3                NaN   \n",
       "\n",
       "   WindDirDegrees  Number_hab  Revenue  Oil_price  dep_encod  ar_encod  \n",
       "0             197     2712920    52273      88.93      10.79     11.26  \n",
       "1             215     2712920    52273      86.57      10.79     11.26  \n",
       "2             270     2712920    52273      93.79      10.79     11.26  \n",
       "3             312     2712920    52273      93.79      10.79     11.26  \n",
       "4               5     2712920    52273      83.52      10.79     11.26  "
      ]
     },
     "execution_count": 58,
     "metadata": {},
     "output_type": "execute_result"
    }
   ],
   "source": [
    "ext_data = pd.read_csv('submissions/starting_kit/external_data.csv', sep=',')\n",
    "ext_data.head()"
   ]
  },
  {
   "cell_type": "code",
   "execution_count": 59,
   "metadata": {
    "scrolled": true
   },
   "outputs": [
    {
     "data": {
      "text/html": [
       "<div>\n",
       "<style scoped>\n",
       "    .dataframe tbody tr th:only-of-type {\n",
       "        vertical-align: middle;\n",
       "    }\n",
       "\n",
       "    .dataframe tbody tr th {\n",
       "        vertical-align: top;\n",
       "    }\n",
       "\n",
       "    .dataframe thead th {\n",
       "        text-align: right;\n",
       "    }\n",
       "</style>\n",
       "<table border=\"1\" class=\"dataframe\">\n",
       "  <thead>\n",
       "    <tr style=\"text-align: right;\">\n",
       "      <th></th>\n",
       "      <th>log_PAX</th>\n",
       "      <th>DateOfDeparture</th>\n",
       "      <th>Departure</th>\n",
       "      <th>Arrival</th>\n",
       "      <th>WeeksToDeparture</th>\n",
       "      <th>std_wtd</th>\n",
       "      <th>Distance</th>\n",
       "      <th>dep_encod</th>\n",
       "      <th>ar_encod</th>\n",
       "      <th>Revenue</th>\n",
       "    </tr>\n",
       "  </thead>\n",
       "  <tbody>\n",
       "    <tr>\n",
       "      <th>0</th>\n",
       "      <td>12.331296</td>\n",
       "      <td>2012-06-19</td>\n",
       "      <td>ORD</td>\n",
       "      <td>DFW</td>\n",
       "      <td>12.875000</td>\n",
       "      <td>9.812647</td>\n",
       "      <td>1292</td>\n",
       "      <td>11.29</td>\n",
       "      <td>11.09</td>\n",
       "      <td>45616</td>\n",
       "    </tr>\n",
       "    <tr>\n",
       "      <th>1</th>\n",
       "      <td>10.775182</td>\n",
       "      <td>2012-09-10</td>\n",
       "      <td>LAS</td>\n",
       "      <td>DEN</td>\n",
       "      <td>14.285714</td>\n",
       "      <td>9.466734</td>\n",
       "      <td>1010</td>\n",
       "      <td>10.79</td>\n",
       "      <td>10.68</td>\n",
       "      <td>52262</td>\n",
       "    </tr>\n",
       "    <tr>\n",
       "      <th>2</th>\n",
       "      <td>11.083177</td>\n",
       "      <td>2012-10-05</td>\n",
       "      <td>DEN</td>\n",
       "      <td>LAX</td>\n",
       "      <td>10.863636</td>\n",
       "      <td>9.035883</td>\n",
       "      <td>1387</td>\n",
       "      <td>10.68</td>\n",
       "      <td>11.43</td>\n",
       "      <td>57739</td>\n",
       "    </tr>\n",
       "    <tr>\n",
       "      <th>3</th>\n",
       "      <td>11.169268</td>\n",
       "      <td>2011-10-09</td>\n",
       "      <td>ATL</td>\n",
       "      <td>ORD</td>\n",
       "      <td>11.480000</td>\n",
       "      <td>7.990202</td>\n",
       "      <td>977</td>\n",
       "      <td>10.99</td>\n",
       "      <td>11.26</td>\n",
       "      <td>52273</td>\n",
       "    </tr>\n",
       "    <tr>\n",
       "      <th>4</th>\n",
       "      <td>11.269364</td>\n",
       "      <td>2012-02-21</td>\n",
       "      <td>DEN</td>\n",
       "      <td>SFO</td>\n",
       "      <td>11.450000</td>\n",
       "      <td>9.517159</td>\n",
       "      <td>1554</td>\n",
       "      <td>10.68</td>\n",
       "      <td>11.23</td>\n",
       "      <td>57739</td>\n",
       "    </tr>\n",
       "  </tbody>\n",
       "</table>\n",
       "</div>"
      ],
      "text/plain": [
       "     log_PAX DateOfDeparture Departure Arrival  WeeksToDeparture   std_wtd  \\\n",
       "0  12.331296      2012-06-19       ORD     DFW         12.875000  9.812647   \n",
       "1  10.775182      2012-09-10       LAS     DEN         14.285714  9.466734   \n",
       "2  11.083177      2012-10-05       DEN     LAX         10.863636  9.035883   \n",
       "3  11.169268      2011-10-09       ATL     ORD         11.480000  7.990202   \n",
       "4  11.269364      2012-02-21       DEN     SFO         11.450000  9.517159   \n",
       "\n",
       "   Distance  dep_encod  ar_encod  Revenue  \n",
       "0      1292      11.29     11.09    45616  \n",
       "1      1010      10.79     10.68    52262  \n",
       "2      1387      10.68     11.43    57739  \n",
       "3       977      10.99     11.26    52273  \n",
       "4      1554      10.68     11.23    57739  "
      ]
     },
     "execution_count": 59,
     "metadata": {},
     "output_type": "execute_result"
    }
   ],
   "source": [
    "X_encoded = X_df\n",
    "external_data = ext_data[['DateOfDeparture', 'Departure', 'Arrival', 'Distance',\n",
    "                      'dep_encod', 'ar_encod', 'Revenue'\n",
    "                      ]]\n",
    "X_encoded = pd.merge(\n",
    "            X_encoded, external_data, how='left',\n",
    "            left_on=['DateOfDeparture', 'Arrival','Departure'],\n",
    "            right_on=['DateOfDeparture', 'Arrival','Departure'],\n",
    "            sort=False)\n",
    "X_encoded.head()"
   ]
  },
  {
   "cell_type": "code",
   "execution_count": 60,
   "metadata": {},
   "outputs": [],
   "source": [
    "X_encoded.drop(['std_wtd'], axis=1, inplace=True)"
   ]
  },
  {
   "cell_type": "code",
   "execution_count": 61,
   "metadata": {},
   "outputs": [
    {
     "data": {
      "text/plain": [
       "[(977.0, 1428.0], (977.0, 1428.0], (977.0, 1428.0], (296.999, 977.0], (1428.0, 2234.0], ..., (296.999, 977.0], (977.0, 1428.0], (296.999, 977.0], (977.0, 1428.0], (296.999, 977.0]]\n",
       "Length: 8902\n",
       "Categories (4, interval[float64]): [(296.999, 977.0] < (977.0, 1428.0] < (1428.0, 2234.0] < (2234.0, 4346.0]]"
      ]
     },
     "execution_count": 61,
     "metadata": {},
     "output_type": "execute_result"
    }
   ],
   "source": [
    "X_encoded['Distance_int'] = pd.qcut(X_encoded['Distance'], 4)\n",
    "X_encoded['Distance_int'].values"
   ]
  },
  {
   "cell_type": "code",
   "execution_count": 52,
   "metadata": {},
   "outputs": [
    {
     "data": {
      "text/plain": [
       "297"
      ]
     },
     "execution_count": 52,
     "metadata": {},
     "output_type": "execute_result"
    }
   ],
   "source": [
    "X_encoded['Distance'].min()"
   ]
  },
  {
   "cell_type": "code",
   "execution_count": 51,
   "metadata": {},
   "outputs": [
    {
     "name": "stdout",
     "output_type": "stream",
     "text": [
      "        log_PAX DateOfDeparture  WeeksToDeparture  Distance  dep_encod  \\\n",
      "4384  13.401985      2012-08-02         17.162162      3979      11.31   \n",
      "\n",
      "      ar_encod  Revenue  d_ATL  d_BOS  d_CLT  d_DEN  d_DFW  d_DTW  d_EWR  \\\n",
      "4384     11.43    57739      0      0      0      0      0      0      0   \n",
      "\n",
      "      d_IAH  d_JFK  d_LAS  d_LAX  d_LGA  d_MCO  d_MIA  d_MSP  d_ORD  d_PHL  \\\n",
      "4384      0      1      0      0      0      0      0      0      0      0   \n",
      "\n",
      "      d_PHX  d_SEA  d_SFO  a_ATL  a_BOS  a_CLT  a_DEN  a_DFW  a_DTW  a_EWR  \\\n",
      "4384      0      0      0      0      0      0      0      0      0      0   \n",
      "\n",
      "      a_IAH  a_JFK  a_LAS  a_LAX  a_LGA  a_MCO  a_MIA  a_MSP  a_ORD  a_PHL  \\\n",
      "4384      0      0      0      1      0      0      0      0      0      0   \n",
      "\n",
      "      a_PHX  a_SEA  a_SFO  year  month  day  weekday  week  n_days  y_2011  \\\n",
      "4384      0      0      0  2012      8    2        3    31   15554       0   \n",
      "\n",
      "      y_2012  y_2013  m_1  m_2  m_3  m_4  m_5  m_6  m_7  m_8  m_9  m_10  m_11  \\\n",
      "4384       1       0    0    0    0    0    0    0    0    1    0     0     0   \n",
      "\n",
      "      m_12  d_1  d_2  d_3  d_4  d_5  d_6  d_7  d_8  d_9  d_10  d_11  d_12  \\\n",
      "4384     0    0    1    0    0    0    0    0    0    0     0     0     0   \n",
      "\n",
      "      d_13  d_14  d_15  d_16  d_17  d_18  d_19  d_20  d_21  d_22  d_23  d_24  \\\n",
      "4384     0     0     0     0     0     0     0     0     0     0     0     0   \n",
      "\n",
      "      d_25  d_26  d_27  d_28  d_29  d_30  d_31  wd_0  wd_1  wd_2  wd_3  wd_4  \\\n",
      "4384     0     0     0     0     0     0     0     0     0     0     1     0   \n",
      "\n",
      "      wd_5  wd_6  w_1  w_2  w_3  w_4  w_5  w_6  w_7  w_8  w_9  w_10  w_11  \\\n",
      "4384     0     0    0    0    0    0    0    0    0    0    0     0     0   \n",
      "\n",
      "      w_12  w_13  w_14  w_15  w_16  w_17  w_18  w_19  w_20  w_21  w_22  w_23  \\\n",
      "4384     0     0     0     0     0     0     0     0     0     0     0     0   \n",
      "\n",
      "      w_24  w_25  w_26  w_27  w_28  w_29  w_30  w_31  w_32  w_33  w_34  w_35  \\\n",
      "4384     0     0     0     0     0     0     0     1     0     0     0     0   \n",
      "\n",
      "      w_36  w_37  w_38  w_39  w_40  w_41  w_42  w_43  w_44  w_45  w_46  w_47  \\\n",
      "4384     0     0     0     0     0     0     0     0     0     0     0     0   \n",
      "\n",
      "      w_48  w_49  w_50  w_51  w_52      Distance_int  \n",
      "4384     0     0     0     0     0  (2234.0, 4346.0]  \n"
     ]
    }
   ],
   "source": [
    "print(X_encoded.loc[[4384]])"
   ]
  },
  {
   "cell_type": "code",
   "execution_count": 35,
   "metadata": {
    "scrolled": false
   },
   "outputs": [],
   "source": [
    "from sklearn.preprocessing import StandardScaler\n",
    "\n",
    "X_encoded = X_encoded.join(pd.get_dummies(X_encoded['Departure'], prefix='d'))\n",
    "X_encoded = X_encoded.join(pd.get_dummies(X_encoded['Arrival'], prefix='a'))\n",
    "X_encoded = X_encoded.drop('Departure', axis=1)\n",
    "X_encoded = X_encoded.drop('Arrival', axis=1)\n",
    "\n",
    "X_encoded['DateOfDeparture'] = pd.to_datetime(X_encoded['DateOfDeparture'])\n",
    "\n",
    "X_encoded['year']    = X_encoded['DateOfDeparture'].dt.year\n",
    "X_encoded['month']   = X_encoded['DateOfDeparture'].dt.month\n",
    "X_encoded['day']     = X_encoded['DateOfDeparture'].dt.day\n",
    "X_encoded['weekday'] = X_encoded['DateOfDeparture'].dt.weekday\n",
    "X_encoded['week']    = X_encoded['DateOfDeparture'].dt.week\n",
    "X_encoded['n_days']  = X_encoded['DateOfDeparture'].apply(lambda date: (date - pd.to_datetime(\"1970-01-01\")).days)\n",
    "\n",
    "X_encoded = X_encoded.join(pd.get_dummies(X_encoded['year'], prefix='y'))\n",
    "X_encoded = X_encoded.join(pd.get_dummies(X_encoded['month'], prefix='m'))\n",
    "X_encoded = X_encoded.join(pd.get_dummies(X_encoded['day'], prefix='d'))\n",
    "X_encoded = X_encoded.join(pd.get_dummies(X_encoded['weekday'], prefix='wd'))\n",
    "X_encoded = X_encoded.join(pd.get_dummies(X_encoded['week'], prefix='w'))\n",
    "\n",
    "\n"
   ]
  },
  {
   "cell_type": "code",
   "execution_count": null,
   "metadata": {},
   "outputs": [],
   "source": [
    "X_encoded[['day', 'log_PAX']].groupby(['day']).mean().sort_values(by='log_PAX', ascending=False)"
   ]
  },
  {
   "cell_type": "code",
   "execution_count": null,
   "metadata": {},
   "outputs": [],
   "source": [
    "X_encoded[['year', 'log_PAX']].groupby(['year']).mean().sort_values(by='log_PAX', ascending=False)"
   ]
  },
  {
   "cell_type": "code",
   "execution_count": null,
   "metadata": {},
   "outputs": [],
   "source": [
    "X_encoded[['month', 'log_PAX']].groupby(['month']).mean().sort_values(by='log_PAX', ascending=False)"
   ]
  },
  {
   "cell_type": "code",
   "execution_count": null,
   "metadata": {
    "scrolled": true
   },
   "outputs": [],
   "source": [
    "X_encoded[['week', 'log_PAX']].groupby(['week']).mean().sort_values(by='log_PAX', ascending=False)"
   ]
  },
  {
   "cell_type": "code",
   "execution_count": null,
   "metadata": {},
   "outputs": [],
   "source": [
    "X_encoded[['weekday', 'log_PAX']].groupby(['weekday']).mean().sort_values(by='log_PAX', ascending=False)"
   ]
  },
  {
   "cell_type": "code",
   "execution_count": null,
   "metadata": {},
   "outputs": [],
   "source": [
    "X_encoded.drop(['year', 'month', 'day', 'weekday', 'week', 'n_days','DateOfDeparture'], axis=1, inplace=True)"
   ]
  },
  {
   "cell_type": "code",
   "execution_count": null,
   "metadata": {},
   "outputs": [],
   "source": [
    "X_encoded['Events'].fillna(0, inplace=True)\n",
    "X_encoded['Events'] = X_encoded['Events'].replace(['Rain','Fog'], 1)\n",
    "X_encoded['Events'] = X_encoded['Events'].replace(['Rain-Thunderstorm','Fog-Rain-Thunderstorm', \n",
    "                                                         'Rain-Snow','Snow','Fog-Rain','Thunderstorm','Fog-Snow', \n",
    "                                                         'Fog-Rain-Snow','Fog-Rain-Snow-Thunderstorm', \n",
    "                                                         'Rain-Snow-Thunderstorm','Rain-Hail-Thunderstorm', \n",
    "                                                         'Fog-Rain-Hail-Thunderstorm', \n",
    "                                                         'Rain-Thunderstorm-Tornado'], 2)"
   ]
  },
  {
   "cell_type": "code",
   "execution_count": null,
   "metadata": {},
   "outputs": [],
   "source": [
    "X_encoded['Precipitationmm'] = X_encoded['Precipitationmm'].replace('T', np.nan)\n",
    "X_encoded['Precipitationmm'] = pd.to_numeric(X_encoded['Precipitationmm'])\n",
    "X_encoded['Precipitationmm'] = X_encoded['Precipitationmm'].fillna(X_encoded['Precipitationmm'].mean())"
   ]
  },
  {
   "cell_type": "code",
   "execution_count": null,
   "metadata": {},
   "outputs": [],
   "source": [
    "X_encoded['Precipitationmm*CloudCover'] = X_encoded.Precipitationmm * X_encoded.CloudCover\n",
    "X_encoded['Temperature*Humidity'] = X_encoded['Mean TemperatureC'] * X_encoded['Mean Humidity']"
   ]
  },
  {
   "cell_type": "code",
   "execution_count": 8,
   "metadata": {},
   "outputs": [],
   "source": [
    "X_encoded['Weeks_to_dep_int'] = pd.qcut(X_encoded['WeeksToDeparture'], 4)\n",
    "X_encoded.loc[X_encoded['WeeksToDeparture'] <= 9.524, 'WeeksToDeparture'] = 0\n",
    "X_encoded.loc[(X_encoded['WeeksToDeparture'] > 9.524) & (X_encoded['WeeksToDeparture'] <= 11.3), 'WeeksToDeparture'] = 1\n",
    "X_encoded.loc[(X_encoded['WeeksToDeparture'] > 11.3) & (X_encoded['WeeksToDeparture'] <= 13.24), 'WeeksToDeparture'] = 2\n",
    "X_encoded.loc[ X_encoded['WeeksToDeparture'] > 13.24, 'WeeksToDeparture'] = 3\n",
    "X_encoded['WeeksToDeparture'] = X_encoded['WeeksToDeparture'].astype(int)\n",
    "X_encoded.drop(['Weeks_to_dep_int'], axis=1, inplace=True)"
   ]
  },
  {
   "cell_type": "code",
   "execution_count": 10,
   "metadata": {},
   "outputs": [
    {
     "data": {
      "text/html": [
       "<div>\n",
       "<style scoped>\n",
       "    .dataframe tbody tr th:only-of-type {\n",
       "        vertical-align: middle;\n",
       "    }\n",
       "\n",
       "    .dataframe tbody tr th {\n",
       "        vertical-align: top;\n",
       "    }\n",
       "\n",
       "    .dataframe thead th {\n",
       "        text-align: right;\n",
       "    }\n",
       "</style>\n",
       "<table border=\"1\" class=\"dataframe\">\n",
       "  <thead>\n",
       "    <tr style=\"text-align: right;\">\n",
       "      <th></th>\n",
       "      <th>log_PAX</th>\n",
       "    </tr>\n",
       "    <tr>\n",
       "      <th>WeeksToDeparture</th>\n",
       "      <th></th>\n",
       "    </tr>\n",
       "  </thead>\n",
       "  <tbody>\n",
       "    <tr>\n",
       "      <th>3</th>\n",
       "      <td>11.213970</td>\n",
       "    </tr>\n",
       "    <tr>\n",
       "      <th>2</th>\n",
       "      <td>11.010436</td>\n",
       "    </tr>\n",
       "    <tr>\n",
       "      <th>1</th>\n",
       "      <td>10.934104</td>\n",
       "    </tr>\n",
       "    <tr>\n",
       "      <th>0</th>\n",
       "      <td>10.838703</td>\n",
       "    </tr>\n",
       "  </tbody>\n",
       "</table>\n",
       "</div>"
      ],
      "text/plain": [
       "                    log_PAX\n",
       "WeeksToDeparture           \n",
       "3                 11.213970\n",
       "2                 11.010436\n",
       "1                 10.934104\n",
       "0                 10.838703"
      ]
     },
     "execution_count": 10,
     "metadata": {},
     "output_type": "execute_result"
    }
   ],
   "source": [
    "X_encoded[['WeeksToDeparture', 'log_PAX']].groupby(['WeeksToDeparture']).mean().sort_values(by='log_PAX', ascending=False)"
   ]
  },
  {
   "cell_type": "code",
   "execution_count": null,
   "metadata": {},
   "outputs": [],
   "source": [
    "X_encoded.loc[:, 'Precipitationmm*CloudCover' : 'Temperature*Humidity'] = StandardScaler().fit_transform(\n",
    "                                                            X_encoded.loc[:, 'Precipitationmm*CloudCover' : 'Temperature*Humidity'])\n",
    "\n",
    "X_encoded.loc[:, 'Distance' : 'Max Wind SpeedKm/h'] = StandardScaler().fit_transform(\n",
    "                                                            X_encoded.loc[:, 'Distance' : 'Max Wind SpeedKm/h'])\n",
    "\n",
    "X_encoded.loc[:, 'dep_encod' : 'Revenue'] = StandardScaler().fit_transform(\n",
    "                                                            X_encoded.loc[:, 'dep_encod' : 'Revenue'])"
   ]
  },
  {
   "cell_type": "code",
   "execution_count": null,
   "metadata": {
    "scrolled": true
   },
   "outputs": [],
   "source": [
    "X_encoded.drop(['Mean TemperatureC','Mean Humidity','Precipitationmm','CloudCover'], axis=1, inplace=True)\n",
    "X_encoded.drop(['MeanDew PointC', 'Mean Sea Level PressurehPa'], axis=1, inplace=True)\n",
    "X_encoded.drop(['ar_encod'], axis=1, inplace=True)"
   ]
  },
  {
   "cell_type": "code",
   "execution_count": null,
   "metadata": {},
   "outputs": [],
   "source": [
    "y = X_encoded['log_PAX']\n",
    "X_encoded.drop(['log_PAX'], axis=1, inplace=True)"
   ]
  },
  {
   "cell_type": "code",
   "execution_count": null,
   "metadata": {},
   "outputs": [],
   "source": [
    "X_encoded.head()"
   ]
  },
  {
   "cell_type": "code",
   "execution_count": null,
   "metadata": {},
   "outputs": [],
   "source": []
  },
  {
   "cell_type": "code",
   "execution_count": null,
   "metadata": {},
   "outputs": [],
   "source": [
    "import xgboost as xgb\n",
    "data_dmatrix = xgb.DMatrix(data=X_encoded,label=y)"
   ]
  },
  {
   "cell_type": "code",
   "execution_count": null,
   "metadata": {},
   "outputs": [],
   "source": [
    "from sklearn.model_selection import train_test_split, GridSearchCV, cross_val_score\n",
    "\n",
    "X_train, X_test, Y_train, Y_test = train_test_split(X_encoded, y, test_size=0.2)"
   ]
  },
  {
   "cell_type": "code",
   "execution_count": null,
   "metadata": {},
   "outputs": [],
   "source": [
    "#Gridsearch\n",
    "import xgboost as xgb\n",
    "xgb1 = xgb.XGBRegressor()\n",
    "parameters = {'nthread':[4],\n",
    "              'objective':['reg:squarederror'],\n",
    "              'learning_rate': [.2], \n",
    "              'max_depth': [7],\n",
    "              'min_child_weight': [4],\n",
    "              'subsample': [0.95],\n",
    "              'colsample_bytree': [0.55],\n",
    "              'n_estimators': [100,300,500,1000],\n",
    "              'reg_lambda':[0.001],\n",
    "              'gamma':[0]}\n",
    "\n",
    "xgb_grid = GridSearchCV(xgb1,\n",
    "                        parameters,\n",
    "                        cv = 2,\n",
    "                        n_jobs = 5,\n",
    "                        verbose=True)\n",
    "\n",
    "xgb_grid.fit(X_train, Y_train)\n",
    "\n",
    "print(xgb_grid.best_params_)"
   ]
  },
  {
   "cell_type": "code",
   "execution_count": null,
   "metadata": {},
   "outputs": [],
   "source": [
    "parameters = {'nthread':4,\n",
    "              'objective':'reg:squarederror',\n",
    "              'learning_rate': .3, \n",
    "              'max_depth': 7,\n",
    "              'min_child_weight': 4,\n",
    "              'subsample': 0.95,\n",
    "              'colsample_bytree': 0.55,\n",
    "              'n_estimators': 1000,\n",
    "              'reg_lambda':0.001,\n",
    "              'gamma':0}\n",
    "\n",
    "cv_results = xgb.cv(dtrain=data_dmatrix, params=parameters, nfold=3,\n",
    "                    num_boost_round=300,early_stopping_rounds=5,metrics=\"rmse\", as_pandas=True, seed=123)"
   ]
  },
  {
   "cell_type": "code",
   "execution_count": null,
   "metadata": {},
   "outputs": [],
   "source": [
    "cv_results.head()"
   ]
  },
  {
   "cell_type": "code",
   "execution_count": null,
   "metadata": {},
   "outputs": [],
   "source": [
    "print((cv_results[\"train-rmse-mean\"]).tail(1))\n",
    "print((cv_results[\"test-rmse-mean\"]).tail(1))"
   ]
  },
  {
   "cell_type": "code",
   "execution_count": null,
   "metadata": {},
   "outputs": [],
   "source": [
    "xg_reg = xgb.train(params=parameters, dtrain=data_dmatrix, num_boost_round=10)\n",
    "xgb.plot_importance(xg_reg, max_num_features=40)\n",
    "plt.rcParams['figure.figsize'] = [20, 20]\n",
    "plt.show()"
   ]
  },
  {
   "cell_type": "code",
   "execution_count": null,
   "metadata": {},
   "outputs": [],
   "source": [
    "import lightgbm as lgb "
   ]
  },
  {
   "cell_type": "code",
   "execution_count": null,
   "metadata": {},
   "outputs": [],
   "source": [
    "from lightgbm import LGBMRegressor\n",
    "lightgbm = LGBMRegressor(task= 'train',\n",
    "          boosting_type= 'gbdt',\n",
    "          objective= 'regression',\n",
    "          metric= {'l2','auc'},\n",
    "          num_leaves= 300,\n",
    "          learning_rate= 0.32,\n",
    "          feature_fraction= 0.9,\n",
    "          bagging_fraction= .9,\n",
    "          bagging_freq= 70,\n",
    "          verbose= 100)"
   ]
  },
  {
   "cell_type": "code",
   "execution_count": null,
   "metadata": {},
   "outputs": [],
   "source": [
    "cv_results = lgb.cv(dtrain=data_dmatrix, params=parameters, nfold=3,\n",
    "                    num_boost_round=300,early_stopping_rounds=5,metrics=\"rmse\", as_pandas=True, seed=123)"
   ]
  }
 ],
 "metadata": {
  "kernelspec": {
   "display_name": "Python 3",
   "language": "python",
   "name": "python3"
  },
  "language_info": {
   "codemirror_mode": {
    "name": "ipython",
    "version": 3
   },
   "file_extension": ".py",
   "mimetype": "text/x-python",
   "name": "python",
   "nbconvert_exporter": "python",
   "pygments_lexer": "ipython3",
   "version": "3.7.3"
  }
 },
 "nbformat": 4,
 "nbformat_minor": 2
}

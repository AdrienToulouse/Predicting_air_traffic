{
 "cells": [
  {
   "cell_type": "markdown",
   "metadata": {},
   "source": [
    "- Essayer avec Xgbregressor\n",
    "- Hyper tune paramètres avec grid search"
   ]
  },
  {
   "cell_type": "code",
   "execution_count": 1,
   "metadata": {},
   "outputs": [
    {
     "name": "stdout",
     "output_type": "stream",
     "text": [
      "\u001b[38;5;178m\u001b[1mTesting Number of air passengers prediction\u001b[0m\n",
      "\u001b[38;5;178m\u001b[1mReading train and test files from ./data ...\u001b[0m\n",
      "\u001b[38;5;178m\u001b[1mReading cv ...\u001b[0m\n",
      "\u001b[38;5;178m\u001b[1mTraining submissions/starting_kit ...\u001b[0m\n",
      "\u001b[38;5;178m\u001b[1mCV fold 0\u001b[0m\n",
      "\t\u001b[38;5;178m\u001b[1mscore   rmse      time\u001b[0m\n",
      "\t\u001b[38;5;10m\u001b[1mtrain\u001b[0m  \u001b[38;5;10m\u001b[1m0.612\u001b[0m  \u001b[38;5;150m5.275939\u001b[0m\n",
      "\t\u001b[38;5;12m\u001b[1mvalid\u001b[0m  \u001b[38;5;12m\u001b[1m0.647\u001b[0m  \u001b[38;5;105m1.759223\u001b[0m\n",
      "\t\u001b[38;5;1m\u001b[1mtest\u001b[0m   \u001b[38;5;1m\u001b[1m0.660\u001b[0m  \u001b[38;5;218m0.486914\u001b[0m\n",
      "\u001b[38;5;178m\u001b[1mCV fold 1\u001b[0m\n",
      "^C\n",
      "Traceback (most recent call last):\n",
      "  File \"//anaconda3/bin/ramp_test_submission\", line 10, in <module>\n",
      "    sys.exit(ramp_test_submission())\n",
      "  File \"//anaconda3/lib/python3.7/site-packages/rampwf/utils/command_line.py\", line 104, in ramp_test_submission\n",
      "    retrain=retrain)\n",
      "  File \"//anaconda3/lib/python3.7/site-packages/rampwf/utils/testing.py\", line 123, in assert_submission\n",
      "    ramp_data_dir)\n",
      "  File \"//anaconda3/lib/python3.7/site-packages/rampwf/utils/submission.py\", line 180, in run_submission_on_cv_fold\n",
      "    save_output, fold_output_path, train_is=train_is)\n",
      "  File \"//anaconda3/lib/python3.7/site-packages/rampwf/utils/submission.py\", line 96, in train_test_submission\n",
      "    module_path, X_train, y_train, train_is=train_is)\n",
      "  File \"//anaconda3/lib/python3.7/site-packages/rampwf/workflows/feature_extractor_regressor.py\", line 21, in train_submission\n",
      "    module_path, X_train_array, y_array[train_is])\n",
      "  File \"//anaconda3/lib/python3.7/site-packages/rampwf/workflows/regressor.py\", line 14, in train_submission\n",
      "    reg.fit(X_array[train_is], y_array[train_is])\n",
      "  File \"submissions/starting_kit/regressor.py\", line 15, in fit\n",
      "    self.reg.fit(X, y)\n",
      "  File \"//anaconda3/lib/python3.7/site-packages/xgboost/sklearn.py\", line 396, in fit\n",
      "    callbacks=callbacks)\n",
      "  File \"//anaconda3/lib/python3.7/site-packages/xgboost/training.py\", line 216, in train\n",
      "    xgb_model=xgb_model, callbacks=callbacks)\n",
      "  File \"//anaconda3/lib/python3.7/site-packages/xgboost/training.py\", line 74, in _train_internal\n",
      "    bst.update(dtrain, i, obj)\n",
      "  File \"//anaconda3/lib/python3.7/site-packages/xgboost/core.py\", line 1109, in update\n",
      "    dtrain.handle))\n",
      "KeyboardInterrupt\n"
     ]
    }
   ],
   "source": [
    "!ramp_test_submission"
   ]
  },
  {
   "cell_type": "code",
   "execution_count": null,
   "metadata": {},
   "outputs": [],
   "source": []
  },
  {
   "cell_type": "code",
   "execution_count": null,
   "metadata": {},
   "outputs": [],
   "source": []
  },
  {
   "cell_type": "code",
   "execution_count": null,
   "metadata": {},
   "outputs": [],
   "source": []
  },
  {
   "cell_type": "code",
   "execution_count": null,
   "metadata": {},
   "outputs": [],
   "source": []
  },
  {
   "cell_type": "code",
   "execution_count": null,
   "metadata": {},
   "outputs": [],
   "source": []
  },
  {
   "cell_type": "code",
   "execution_count": null,
   "metadata": {},
   "outputs": [],
   "source": []
  }
 ],
 "metadata": {
  "kernelspec": {
   "display_name": "Python 3",
   "language": "python",
   "name": "python3"
  },
  "language_info": {
   "codemirror_mode": {
    "name": "ipython",
    "version": 3
   },
   "file_extension": ".py",
   "mimetype": "text/x-python",
   "name": "python",
   "nbconvert_exporter": "python",
   "pygments_lexer": "ipython3",
   "version": "3.7.3"
  }
 },
 "nbformat": 4,
 "nbformat_minor": 2
}
